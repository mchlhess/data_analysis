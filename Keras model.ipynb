{
 "cells": [
  {
   "cell_type": "code",
   "execution_count": 14,
   "metadata": {
    "collapsed": false
   },
   "outputs": [
    {
     "name": "stdout",
     "output_type": "stream",
     "text": [
      "Hello world!\n"
     ]
    }
   ],
   "source": [
    "import os\n",
    "import matplotlib.pyplot as plt\n",
    "import tensorflow as tf\n",
    "import numpy as np\n",
    "from sklearn.model_selection import train_test_split\n",
    "from sklearn.metrics import accuracy_score\n",
    "import math as math\n",
    "\n",
    "from keras.models import Sequential\n",
    "from keras.layers import Dense, Dropout\n",
    "from keras.utils import np_utils\n",
    "\n",
    "# fix random seed for reproducibility\n",
    "seed = 7\n",
    "#np.random.seed(seed)\n",
    "print \"Hello world!\""
   ]
  },
  {
   "cell_type": "code",
   "execution_count": 33,
   "metadata": {
    "collapsed": false
   },
   "outputs": [],
   "source": [
    "szr_load = np.loadtxt('pre_szr.csv', delimiter=',') #load positive samples\n",
    "non_szr_load = np.loadtxt('non_szr.csv', delimiter=',') #load negative samples"
   ]
  },
  {
   "cell_type": "code",
   "execution_count": 34,
   "metadata": {
    "collapsed": true
   },
   "outputs": [],
   "source": [
    "NUM_CYCLES = 2 #set how many k-fold iterations over the dataset we'll fit\n",
    "NUM_EPOCHS = 15\n",
    "BATCH_SIZE = 100\n",
    "TEST_SET = .2"
   ]
  },
  {
   "cell_type": "code",
   "execution_count": 35,
   "metadata": {
    "collapsed": false
   },
   "outputs": [],
   "source": [
    "def split_data(data, mask):\n",
    "    res = []\n",
    "    tempres = []\n",
    "    for index, x in enumerate(data):\n",
    "        if index > len(mask) - 1:\n",
    "            break #avoid accessing out of bounds\n",
    "        if mask[index] > 0:\n",
    "            tempres = []\n",
    "            res.append(tempres) #add temp array into result array\n",
    "        tempres.append(x[:23]) #add first 23 features to temp array\n",
    "    \n",
    "    data = np.asarray(res) #szr now contains 50 different pre-seizure events\n",
    "    return data\n",
    "\n",
    "def chunk_data(pos, neg):\n",
    "    X_train = np.array([], dtype=int).reshape(-1,23)\n",
    "    Y_train = []\n",
    "    X_test = np.empty((0, 23))\n",
    "    Y_test = []\n",
    "    for index, i in enumerate(szr):\n",
    "        #create training set out of first % of samples\n",
    "        if index < int(len(szr) * (1 - TEST_SET)):\n",
    "            X_train = np.vstack((X_train, i))\n",
    "            Y_train = np.append(Y_train, np.ones(len(i)))\n",
    "            # we end up with an array of shape:\n",
    "            # positive data\n",
    "            # negative data\n",
    "            # positive data\n",
    "            # negative data\n",
    "            X_train = np.vstack((X_train, non_szr[index]))\n",
    "            Y_train = np.append(Y_train, np.zeros(len(non_szr[index])))\n",
    "        else:\n",
    "            X_test = np.vstack((X_test, i))\n",
    "            Y_test = np.append(Y_test, np.ones(len(i)))\n",
    "            X_test = np.vstack((X_test, non_szr[index]))\n",
    "            Y_test = np.append(Y_test, np.zeros(len(non_szr[index])))\n",
    "    return X_train, Y_train, X_test, Y_test"
   ]
  },
  {
   "cell_type": "code",
   "execution_count": 36,
   "metadata": {
    "collapsed": false
   },
   "outputs": [
    {
     "name": "stdout",
     "output_type": "stream",
     "text": [
      "(51120, 23)\n",
      "(12780, 23)\n",
      "(51120,)\n",
      "(12780,)\n"
     ]
    }
   ],
   "source": [
    "#generate mask that identifies when labels change\n",
    "mask = np.diff(szr_load[:,23])\n",
    "mask = np.hstack((1, mask))\n",
    "szr = split_data(szr_load, mask)\n",
    "non_szr = split_data(non_szr_load, mask)\n",
    "\n",
    "np.random.shuffle(szr) #only shuffled on first axis, so data stays intact temporally\n",
    "np.random.shuffle(non_szr)\n",
    "\n",
    "X_train, Y_train, X_test, Y_test = chunk_data(szr, non_szr)\n",
    "        \n",
    "Y_test = np.asarray(Y_test)\n",
    "Y_train = np.asarray(Y_train)\n",
    "print X_train.shape\n",
    "print X_test.shape\n",
    "print Y_train.shape\n",
    "print Y_test.shape\n",
    "#data = np.vstack((non_szr[num_chunks - 1], szr)) #stacks the last full chunk of negative data on the positive data\n",
    "#labels = np.hstack((np.zeros(len(non_szr[num_chunks - 1])), np.ones(len(szr)))) #generates labels corresponding\n",
    "#to the data\n",
    "\n",
    "#X_throwaway, X_test, Y_train, Y_test = train_test_split(data, labels, test_size=.2) #gives us test chunks\n",
    "#print Y_test.shape"
   ]
  },
  {
   "cell_type": "code",
   "execution_count": 37,
   "metadata": {
    "collapsed": false
   },
   "outputs": [
    {
     "name": "stdout",
     "output_type": "stream",
     "text": [
      "Epoch 1/15\n",
      "51120/51120 [==============================] - 2s - loss: 0.6930 - acc: 0.5048     \n",
      "Epoch 2/15\n",
      "51120/51120 [==============================] - 1s - loss: 0.6670 - acc: 0.6223     \n",
      "Epoch 3/15\n",
      "51120/51120 [==============================] - 1s - loss: 0.4206 - acc: 0.8541     \n",
      "Epoch 4/15\n",
      "51120/51120 [==============================] - 1s - loss: 0.3071 - acc: 0.8858     \n",
      "Epoch 5/15\n",
      "51120/51120 [==============================] - 1s - loss: 0.2813 - acc: 0.8942     \n",
      "Epoch 6/15\n",
      "51120/51120 [==============================] - 1s - loss: 0.2702 - acc: 0.8980     \n",
      "Epoch 7/15\n",
      "51120/51120 [==============================] - 1s - loss: 0.2645 - acc: 0.9006     \n",
      "Epoch 8/15\n",
      "51120/51120 [==============================] - 1s - loss: 0.2607 - acc: 0.9024     \n",
      "Epoch 9/15\n",
      "51120/51120 [==============================] - 1s - loss: 0.2571 - acc: 0.9034     \n",
      "Epoch 10/15\n",
      "51120/51120 [==============================] - 1s - loss: 0.2561 - acc: 0.9038     \n",
      "Epoch 11/15\n",
      "51120/51120 [==============================] - 2s - loss: 0.2557 - acc: 0.9046     \n",
      "Epoch 12/15\n",
      "51120/51120 [==============================] - 1s - loss: 0.2532 - acc: 0.9052     \n",
      "Epoch 13/15\n",
      "51120/51120 [==============================] - 1s - loss: 0.2534 - acc: 0.9049     \n",
      "Epoch 14/15\n",
      "51120/51120 [==============================] - 2s - loss: 0.2533 - acc: 0.9046     \n",
      "Epoch 15/15\n",
      "51120/51120 [==============================] - 2s - loss: 0.2523 - acc: 0.9058     \n"
     ]
    },
    {
     "data": {
      "text/plain": [
       "<keras.callbacks.History at 0x11e3c9e10>"
      ]
     },
     "execution_count": 37,
     "metadata": {},
     "output_type": "execute_result"
    }
   ],
   "source": [
    "# create model\n",
    "model = Sequential()\n",
    "model.add(Dense(10, input_dim=23, init='normal', activation='sigmoid'))\n",
    "model.add(Dense(10, init='normal', activation='sigmoid'))\n",
    "model.add(Dense(1, init='uniform', activation='sigmoid')) #last layer needs to be sigmoid activation (why?)\n",
    "\n",
    "# Compile model\n",
    "model.compile(loss='binary_crossentropy', optimizer='adam', metrics=['accuracy'])\n",
    "\n",
    "model.fit(X_train, Y_train, nb_epoch=NUM_EPOCHS, batch_size=BATCH_SIZE)"
   ]
  },
  {
   "cell_type": "code",
   "execution_count": 38,
   "metadata": {
    "collapsed": false
   },
   "outputs": [
    {
     "name": "stdout",
     "output_type": "stream",
     "text": [
      "50368/51120 [============================>.] - ETA: 0sacc: 90.77%\n",
      "10752/12780 [========================>.....] - ETA: 0s"
     ]
    }
   ],
   "source": [
    "# evaluate the model\n",
    "scores = model.evaluate(X_train, Y_train)\n",
    "print(\"%s: %.2f%%\" % (model.metrics_names[1], scores[1]*100))\n",
    "\n",
    "#generate prediction probabilities for ROC curve\n",
    "proba = model.predict_proba(X_test, verbose=1)"
   ]
  },
  {
   "cell_type": "code",
   "execution_count": 39,
   "metadata": {
    "collapsed": true
   },
   "outputs": [],
   "source": [
    "def generate_results(predictions, actual):\n",
    "    #This just plots the ROC curve\n",
    "    false_positive_rate, true_positive_rate, thresholds = met.roc_curve(actual, predictions)\n",
    "    roc_auc = met.auc(false_positive_rate, true_positive_rate)\n",
    "    \n",
    "    \n",
    "    plt.title('Receiver Operating Characteristic')\n",
    "    plt.plot(false_positive_rate, true_positive_rate, 'b',\n",
    "    label='AUC = %0.2f'% roc_auc)\n",
    "    plt.legend(loc='lower right')\n",
    "    plt.plot([0,1],[0,1],'r--')\n",
    "    plt.xlim([0,1])\n",
    "    plt.ylim([0,1])\n",
    "    plt.ylabel('True Positive Rate')\n",
    "    plt.xlabel('False Positive Rate')\n",
    "    plt.show()"
   ]
  },
  {
   "cell_type": "code",
   "execution_count": 40,
   "metadata": {
    "collapsed": false
   },
   "outputs": [
    {
     "name": "stdout",
     "output_type": "stream",
     "text": [
      "0.951398078962\n"
     ]
    },
    {
     "data": {
      "image/png": "[encoded data removed]",
      "text/plain": [
       "<matplotlib.figure.Figure at 0x11f1f98d0>"
      ]
     },
     "metadata": {},
     "output_type": "display_data"
    }
   ],
   "source": [
    "import sklearn.metrics as met\n",
    "\n",
    "print met.roc_auc_score(Y_test, proba)\n",
    "generate_results(proba, Y_test)"
   ]
  },
  {
   "cell_type": "code",
   "execution_count": 81,
   "metadata": {
    "collapsed": true
   },
   "outputs": [],
   "source": [
    "#model.save('prediction.h5')\n",
    "#model.save_weights('prediction_weights.h5')"
   ]
  },
  {
   "cell_type": "code",
   "execution_count": null,
   "metadata": {
    "collapsed": true
   },
   "outputs": [],
   "source": []
  }
 ],
 "metadata": {
  "anaconda-cloud": {},
  "kernelspec": {
   "display_name": "Python [default]",
   "language": "python",
   "name": "python2"
  },
  "language_info": {
   "codemirror_mode": {
    "name": "ipython",
    "version": 2
   },
   "file_extension": ".py",
   "mimetype": "text/x-python",
   "name": "python",
   "nbconvert_exporter": "python",
   "pygments_lexer": "ipython2",
   "version": "2.7.12"
  }
 },
 "nbformat": 4,
 "nbformat_minor": 1
}
