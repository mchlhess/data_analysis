{
 "cells": [
  {
   "cell_type": "code",
   "execution_count": 17,
   "metadata": {
    "collapsed": false
   },
   "outputs": [],
   "source": [
    "import os\n",
    "import matplotlib.pyplot as plt\n",
    "import tensorflow as tf\n",
    "import numpy as np\n",
    "from sklearn.model_selection import train_test_split\n",
    "from sklearn.metrics import accuracy_score\n",
    "import math as math\n",
    "\n",
    "from keras.models import Sequential\n",
    "from keras.layers import Dense\n",
    "from keras.utils import np_utils\n",
    "\n",
    "# fix random seed for reproducibility\n",
    "seed = 7\n",
    "np.random.seed(seed)"
   ]
  },
  {
   "cell_type": "code",
   "execution_count": 18,
   "metadata": {
    "collapsed": false
   },
   "outputs": [],
   "source": [
    "szr = np.loadtxt('pre_szr.csv', delimiter=',') #load positive samples\n",
    "non_szr = np.loadtxt('non_szr.csv', delimiter=',') #load negative samples"
   ]
  },
  {
   "cell_type": "code",
   "execution_count": 19,
   "metadata": {
    "collapsed": true
   },
   "outputs": [],
   "source": [
    "NUM_CYCLES = 4 #set how many k-fold iterations over the dataset we'll fit\n",
    "NUM_EPOCHS = 15\n",
    "BATCH_SIZE = 100"
   ]
  },
  {
   "cell_type": "code",
   "execution_count": 20,
   "metadata": {
    "collapsed": false
   },
   "outputs": [
    {
     "name": "stdout",
     "output_type": "stream",
     "text": [
      "112\n",
      "112\n",
      "(4348,)\n"
     ]
    }
   ],
   "source": [
    "#np.random.shuffle(non_szr)\n",
    "num_chunks = len(non_szr) / len(szr)\n",
    "print num_chunks #gives a number of chunks that will make the number of negative and non-negative samples\n",
    "#be approximately equal to each other\n",
    "num_chunks = int(num_chunks)\n",
    "print num_chunks\n",
    "non_szr = np.array_split(non_szr, num_chunks)\n",
    "\n",
    "data = np.vstack((non_szr[num_chunks - 1], szr)) #stacks the last full chunk of negative data on the positive data\n",
    "labels = np.hstack((np.zeros(len(non_szr[num_chunks - 1])), np.ones(len(szr)))) #generates labels corresponding\n",
    "#to the data\n",
    "\n",
    "X_throwaway, X_test, Y_train, Y_test = train_test_split(data, labels, test_size=.2) #gives us test chunks\n",
    "print Y_test.shape"
   ]
  },
  {
   "cell_type": "code",
   "execution_count": 21,
   "metadata": {
    "collapsed": false
   },
   "outputs": [
    {
     "name": "stdout",
     "output_type": "stream",
     "text": [
      "(21739, 23)\n",
      "(21739,)\n",
      "Epoch 1/15\n",
      "21739/21739 [==============================] - 1s - loss: 0.6931 - acc: 0.5053     \n",
      "Epoch 2/15\n",
      "21739/21739 [==============================] - 0s - loss: 0.6913 - acc: 0.5310     \n",
      "Epoch 3/15\n",
      "21739/21739 [==============================] - 0s - loss: 0.6791 - acc: 0.5701     \n",
      "Epoch 4/15\n",
      "21739/21739 [==============================] - 0s - loss: 0.6568 - acc: 0.6060     \n",
      "Epoch 5/15\n",
      "21739/21739 [==============================] - 0s - loss: 0.6459 - acc: 0.6099     \n",
      "Epoch 6/15\n",
      "21739/21739 [==============================] - 0s - loss: 0.6399 - acc: 0.6121     \n",
      "Epoch 7/15\n",
      "21739/21739 [==============================] - 0s - loss: 0.6351 - acc: 0.6153     \n",
      "Epoch 8/15\n",
      "21739/21739 [==============================] - 0s - loss: 0.6288 - acc: 0.6216     \n",
      "Epoch 9/15\n",
      "21739/21739 [==============================] - 0s - loss: 0.6265 - acc: 0.6214     \n",
      "Epoch 10/15\n",
      "21739/21739 [==============================] - 0s - loss: 0.6238 - acc: 0.6245     \n",
      "Epoch 11/15\n",
      "21739/21739 [==============================] - 0s - loss: 0.6229 - acc: 0.6248     \n",
      "Epoch 12/15\n",
      "21739/21739 [==============================] - 0s - loss: 0.6212 - acc: 0.6266     \n",
      "Epoch 13/15\n",
      "21739/21739 [==============================] - 0s - loss: 0.6197 - acc: 0.6279     \n",
      "Epoch 14/15\n",
      "21739/21739 [==============================] - 0s - loss: 0.6183 - acc: 0.6291     \n",
      "Epoch 15/15\n",
      "21739/21739 [==============================] - 0s - loss: 0.6168 - acc: 0.6309     \n",
      "(21739, 23)\n",
      "(21739,)\n",
      "Epoch 1/15\n",
      "21739/21739 [==============================] - 0s - loss: 0.6168 - acc: 0.6334     \n",
      "Epoch 2/15\n",
      "21739/21739 [==============================] - 0s - loss: 0.6135 - acc: 0.6349     \n",
      "Epoch 3/15\n",
      "21739/21739 [==============================] - 0s - loss: 0.6115 - acc: 0.6380     \n",
      "Epoch 4/15\n",
      "21739/21739 [==============================] - 0s - loss: 0.6091 - acc: 0.6398     \n",
      "Epoch 5/15\n",
      "21739/21739 [==============================] - 0s - loss: 0.6066 - acc: 0.6420     \n",
      "Epoch 6/15\n",
      "21739/21739 [==============================] - 0s - loss: 0.6042 - acc: 0.6451     \n",
      "Epoch 7/15\n",
      "21739/21739 [==============================] - 0s - loss: 0.6024 - acc: 0.6469     \n",
      "Epoch 8/15\n",
      "21739/21739 [==============================] - 0s - loss: 0.5993 - acc: 0.6497     \n",
      "Epoch 9/15\n",
      "21739/21739 [==============================] - 0s - loss: 0.5954 - acc: 0.6593     \n",
      "Epoch 10/15\n",
      "21739/21739 [==============================] - 0s - loss: 0.5904 - acc: 0.6690     \n",
      "Epoch 11/15\n",
      "21739/21739 [==============================] - 0s - loss: 0.5773 - acc: 0.6929     \n",
      "Epoch 12/15\n",
      "21739/21739 [==============================] - 0s - loss: 0.5377 - acc: 0.7406     \n",
      "Epoch 13/15\n",
      "21739/21739 [==============================] - 0s - loss: 0.4797 - acc: 0.7884     \n",
      "Epoch 14/15\n",
      "21739/21739 [==============================] - 0s - loss: 0.4423 - acc: 0.8098     \n",
      "Epoch 15/15\n",
      "21739/21739 [==============================] - 0s - loss: 0.4219 - acc: 0.8197     \n",
      "(21739, 23)\n",
      "(21739,)\n",
      "Epoch 1/15\n",
      "21739/21739 [==============================] - 0s - loss: 0.4639 - acc: 0.7849     \n",
      "Epoch 2/15\n",
      "21739/21739 [==============================] - 0s - loss: 0.4398 - acc: 0.8016     \n",
      "Epoch 3/15\n",
      "21739/21739 [==============================] - 0s - loss: 0.4281 - acc: 0.8057     \n",
      "Epoch 4/15\n",
      "21739/21739 [==============================] - 0s - loss: 0.4196 - acc: 0.8118     \n",
      "Epoch 5/15\n",
      "21739/21739 [==============================] - 0s - loss: 0.4129 - acc: 0.8143     \n",
      "Epoch 6/15\n",
      "21739/21739 [==============================] - 0s - loss: 0.4071 - acc: 0.8191     \n",
      "Epoch 7/15\n",
      "21739/21739 [==============================] - 0s - loss: 0.4001 - acc: 0.8221     \n",
      "Epoch 8/15\n",
      "21739/21739 [==============================] - 0s - loss: 0.3979 - acc: 0.8218     \n",
      "Epoch 9/15\n",
      "21739/21739 [==============================] - 0s - loss: 0.3921 - acc: 0.8253     \n",
      "Epoch 10/15\n",
      "21739/21739 [==============================] - 0s - loss: 0.3907 - acc: 0.8251     \n",
      "Epoch 11/15\n",
      "21739/21739 [==============================] - 0s - loss: 0.3852 - acc: 0.8290     \n",
      "Epoch 12/15\n",
      "21739/21739 [==============================] - 0s - loss: 0.3829 - acc: 0.8311     \n",
      "Epoch 13/15\n",
      "21739/21739 [==============================] - 0s - loss: 0.3769 - acc: 0.8320     \n",
      "Epoch 14/15\n",
      "21739/21739 [==============================] - 0s - loss: 0.3774 - acc: 0.8341     \n",
      "Epoch 15/15\n",
      "21739/21739 [==============================] - 0s - loss: 0.3755 - acc: 0.8361     \n",
      "(21739, 23)\n",
      "(21739,)\n",
      "Epoch 1/15\n",
      "21739/21739 [==============================] - 0s - loss: 0.6315 - acc: 0.7129     \n",
      "Epoch 2/15\n",
      "21739/21739 [==============================] - 0s - loss: 0.5303 - acc: 0.7459     \n",
      "Epoch 3/15\n",
      "21739/21739 [==============================] - 0s - loss: 0.5092 - acc: 0.7558     \n",
      "Epoch 4/15\n",
      "21739/21739 [==============================] - 0s - loss: 0.4989 - acc: 0.7622     \n",
      "Epoch 5/15\n",
      "21739/21739 [==============================] - 0s - loss: 0.4922 - acc: 0.7680     \n",
      "Epoch 6/15\n",
      "21739/21739 [==============================] - 0s - loss: 0.4887 - acc: 0.7696     \n",
      "Epoch 7/15\n",
      "21739/21739 [==============================] - 0s - loss: 0.4817 - acc: 0.7715     \n",
      "Epoch 8/15\n",
      "21739/21739 [==============================] - 0s - loss: 0.4774 - acc: 0.7762     \n",
      "Epoch 9/15\n",
      "21739/21739 [==============================] - 0s - loss: 0.4747 - acc: 0.7775     \n",
      "Epoch 10/15\n",
      "21739/21739 [==============================] - 0s - loss: 0.4712 - acc: 0.7819     \n",
      "Epoch 11/15\n",
      "21739/21739 [==============================] - 0s - loss: 0.4679 - acc: 0.7810     \n",
      "Epoch 12/15\n",
      "21739/21739 [==============================] - 0s - loss: 0.4676 - acc: 0.7832     \n",
      "Epoch 13/15\n",
      "21739/21739 [==============================] - 0s - loss: 0.4648 - acc: 0.7834     \n",
      "Epoch 14/15\n",
      "21739/21739 [==============================] - 0s - loss: 0.4635 - acc: 0.7831     \n",
      "Epoch 15/15\n",
      "21739/21739 [==============================] - 0s - loss: 0.4639 - acc: 0.7858     \n"
     ]
    }
   ],
   "source": [
    "# create model\n",
    "model = Sequential()\n",
    "model.add(Dense(23, input_dim=23, init='uniform', activation='sigmoid'))\n",
    "model.add(Dense(10, init='uniform', activation='sigmoid'))\n",
    "model.add(Dense(1, init='uniform', activation='sigmoid')) #last layer needs to be sigmoid activation (why?)\n",
    "\n",
    "# Compile model\n",
    "model.compile(loss='binary_crossentropy', optimizer='adam', metrics=['accuracy'])\n",
    "\n",
    "# Fit the model in batches, taking different negative data each time\n",
    "for i in range(0, NUM_CYCLES):\n",
    "    szr.astype(np.float32)\n",
    "    \n",
    "    #stack the data\n",
    "    X_train = np.vstack((non_szr[i], szr))\n",
    "    print X_train.shape\n",
    "    #stack the labels\n",
    "    Y_train = np.hstack((np.zeros(len(non_szr[i])), np.ones(len(szr))))\n",
    "    print Y_train.shape\n",
    "    \n",
    "    model.fit(X_train, Y_train, nb_epoch=NUM_EPOCHS, batch_size=BATCH_SIZE)"
   ]
  },
  {
   "cell_type": "code",
   "execution_count": 22,
   "metadata": {
    "collapsed": false
   },
   "outputs": [
    {
     "name": "stdout",
     "output_type": "stream",
     "text": [
      "21408/21739 [============================>.] - ETA: 0sacc: 78.68%\n",
      "4192/4348 [===========================>..] - ETA: 0s"
     ]
    }
   ],
   "source": [
    "# evaluate the model\n",
    "scores = model.evaluate(X_train, Y_train)\n",
    "print(\"%s: %.2f%%\" % (model.metrics_names[1], scores[1]*100))\n",
    "\n",
    "#generate prediction probabilities for ROC curve\n",
    "proba = model.predict_proba(X_test, verbose=1)"
   ]
  },
  {
   "cell_type": "code",
   "execution_count": 23,
   "metadata": {
    "collapsed": true
   },
   "outputs": [],
   "source": [
    "def generate_results(predictions, actual):\n",
    "    #This just plots the ROC curve\n",
    "    false_positive_rate, true_positive_rate, thresholds = met.roc_curve(actual, predictions)\n",
    "    roc_auc = met.auc(false_positive_rate, true_positive_rate)\n",
    "    \n",
    "    \n",
    "    plt.title('Receiver Operating Characteristic')\n",
    "    plt.plot(false_positive_rate, true_positive_rate, 'b',\n",
    "    label='AUC = %0.2f'% roc_auc)\n",
    "    plt.legend(loc='lower right')\n",
    "    plt.plot([0,1],[0,1],'r--')\n",
    "    plt.xlim([0,1])\n",
    "    plt.ylim([0,1])\n",
    "    plt.ylabel('True Positive Rate')\n",
    "    plt.xlabel('False Positive Rate')\n",
    "    plt.show()"
   ]
  },
  {
   "cell_type": "code",
   "execution_count": 24,
   "metadata": {
    "collapsed": false
   },
   "outputs": [
    {
     "name": "stdout",
     "output_type": "stream",
     "text": [
      "0.460394288764\n"
     ]
    },
    {
     "data": {
      "image/png": "[encoded data removed]",
      "text/plain": [
       "<matplotlib.figure.Figure at 0x11c9f9750>"
      ]
     },
     "metadata": {},
     "output_type": "display_data"
    }
   ],
   "source": [
    "import sklearn.metrics as met\n",
    "\n",
    "print met.roc_auc_score(Y_test, proba)\n",
    "generate_results(proba, Y_test)"
   ]
  },
  {
   "cell_type": "code",
   "execution_count": null,
   "metadata": {
    "collapsed": true
   },
   "outputs": [],
   "source": []
  }
 ],
 "metadata": {
  "anaconda-cloud": {},
  "kernelspec": {
   "display_name": "Python [default]",
   "language": "python",
   "name": "python2"
  },
  "language_info": {
   "codemirror_mode": {
    "name": "ipython",
    "version": 2
   },
   "file_extension": ".py",
   "mimetype": "text/x-python",
   "name": "python",
   "nbconvert_exporter": "python",
   "pygments_lexer": "ipython2",
   "version": "2.7.12"
  }
 },
 "nbformat": 4,
 "nbformat_minor": 1
}
