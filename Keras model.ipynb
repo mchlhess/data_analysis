{
 "cells": [
  {
   "cell_type": "code",
   "execution_count": 49,
   "metadata": {
    "collapsed": false
   },
   "outputs": [],
   "source": [
    "import os\n",
    "import matplotlib.pyplot as plt\n",
    "import tensorflow as tf\n",
    "import numpy as np\n",
    "from sklearn.model_selection import train_test_split\n",
    "from sklearn.metrics import accuracy_score\n",
    "import math as math\n",
    "\n",
    "from keras.models import Sequential\n",
    "from keras.layers import Dense\n",
    "from keras.utils import np_utils\n",
    "\n",
    "# fix random seed for reproducibility\n",
    "seed = 7\n",
    "np.random.seed(seed)"
   ]
  },
  {
   "cell_type": "code",
   "execution_count": 76,
   "metadata": {
    "collapsed": false
   },
   "outputs": [],
   "source": [
    "szr = np.loadtxt('pre_szr.csv', delimiter=',') #load positive samples\n",
    "non_szr = np.loadtxt('non_szr.csv', delimiter=',') #load negative samples"
   ]
  },
  {
   "cell_type": "code",
   "execution_count": 77,
   "metadata": {
    "collapsed": true
   },
   "outputs": [],
   "source": [
    "NUM_CYCLES = 7 #set how many k-fold iterations over the dataset we'll fit\n",
    "NUM_EPOCHS = 5\n",
    "BATCH_SIZE = 1000"
   ]
  },
  {
   "cell_type": "code",
   "execution_count": 78,
   "metadata": {
    "collapsed": false
   },
   "outputs": [
    {
     "name": "stdout",
     "output_type": "stream",
     "text": [
      "110\n",
      "110\n",
      "(12297,)\n"
     ]
    }
   ],
   "source": [
    "#np.random.shuffle(non_szr)\n",
    "num_chunks = len(non_szr) / len(szr)\n",
    "print num_chunks #gives a number of chunks that will make the number of negative and non-negative samples\n",
    "#be approximately equal to each other\n",
    "num_chunks = int(num_chunks)\n",
    "print num_chunks\n",
    "non_szr = np.array_split(non_szr, num_chunks)\n",
    "\n",
    "data = np.vstack((non_szr[num_chunks - 1], szr)) #stacks the last full chunk of negative data on the positive data\n",
    "labels = np.hstack((np.zeros(len(non_szr[num_chunks - 1])), np.ones(len(szr)))) #generates labels corresponding\n",
    "#to the data\n",
    "\n",
    "X_throwaway, X_test, Y_train, Y_test = train_test_split(data, labels, test_size=.2) #gives us test chunks\n",
    "print Y_test.shape"
   ]
  },
  {
   "cell_type": "code",
   "execution_count": 79,
   "metadata": {
    "collapsed": false
   },
   "outputs": [
    {
     "name": "stdout",
     "output_type": "stream",
     "text": [
      "(61486, 23)\n",
      "(61486,)\n",
      "Epoch 1/5\n",
      "61486/61486 [==============================] - 2s - loss: 0.6932 - acc: 0.5010     \n",
      "Epoch 2/5\n",
      "61486/61486 [==============================] - 0s - loss: 0.6930 - acc: 0.5064     \n",
      "Epoch 3/5\n",
      "61486/61486 [==============================] - 0s - loss: 0.6926 - acc: 0.5226     \n",
      "Epoch 4/5\n",
      "61486/61486 [==============================] - 0s - loss: 0.6915 - acc: 0.5432     \n",
      "Epoch 5/5\n",
      "61486/61486 [==============================] - 0s - loss: 0.6888 - acc: 0.5483     \n",
      "(61486, 23)\n",
      "(61486,)\n",
      "Epoch 1/5\n",
      "61486/61486 [==============================] - 0s - loss: 0.6872 - acc: 0.5577     \n",
      "Epoch 2/5\n",
      "61486/61486 [==============================] - 0s - loss: 0.6772 - acc: 0.6100     \n",
      "Epoch 3/5\n",
      "61486/61486 [==============================] - 0s - loss: 0.6516 - acc: 0.7025     \n",
      "Epoch 4/5\n",
      "61486/61486 [==============================] - 0s - loss: 0.6067 - acc: 0.7579     \n",
      "Epoch 5/5\n",
      "61486/61486 [==============================] - 0s - loss: 0.5547 - acc: 0.7862     \n",
      "(61486, 23)\n",
      "(61486,)\n",
      "Epoch 1/5\n",
      "61486/61486 [==============================] - 0s - loss: 0.5277 - acc: 0.7744     \n",
      "Epoch 2/5\n",
      "61486/61486 [==============================] - 0s - loss: 0.4917 - acc: 0.7960     \n",
      "Epoch 3/5\n",
      "61486/61486 [==============================] - 0s - loss: 0.4671 - acc: 0.8047     \n",
      "Epoch 4/5\n",
      "61486/61486 [==============================] - 0s - loss: 0.4507 - acc: 0.8106     \n",
      "Epoch 5/5\n",
      "61486/61486 [==============================] - 0s - loss: 0.4383 - acc: 0.8137     \n",
      "(61486, 23)\n",
      "(61486,)\n",
      "Epoch 1/5\n",
      "61486/61486 [==============================] - 0s - loss: 0.4609 - acc: 0.7959     \n",
      "Epoch 2/5\n",
      "61486/61486 [==============================] - 0s - loss: 0.4420 - acc: 0.8090     \n",
      "Epoch 3/5\n",
      "61486/61486 [==============================] - 0s - loss: 0.4381 - acc: 0.8085     \n",
      "Epoch 4/5\n",
      "61486/61486 [==============================] - 0s - loss: 0.4339 - acc: 0.8102     \n",
      "Epoch 5/5\n",
      "61486/61486 [==============================] - 0s - loss: 0.4278 - acc: 0.8145     \n",
      "(61486, 23)\n",
      "(61486,)\n",
      "Epoch 1/5\n",
      "61486/61486 [==============================] - 0s - loss: 0.4337 - acc: 0.8067     \n",
      "Epoch 2/5\n",
      "61486/61486 [==============================] - 0s - loss: 0.4234 - acc: 0.8144     \n",
      "Epoch 3/5\n",
      "61486/61486 [==============================] - 0s - loss: 0.4210 - acc: 0.8136     \n",
      "Epoch 4/5\n",
      "61486/61486 [==============================] - 0s - loss: 0.4170 - acc: 0.8168     \n",
      "Epoch 5/5\n",
      "61486/61486 [==============================] - 0s - loss: 0.4145 - acc: 0.8169     \n",
      "(61486, 23)\n",
      "(61486,)\n",
      "Epoch 1/5\n",
      "61486/61486 [==============================] - 0s - loss: 0.6207 - acc: 0.6908     \n",
      "Epoch 2/5\n",
      "61486/61486 [==============================] - 0s - loss: 0.5530 - acc: 0.7241     \n",
      "Epoch 3/5\n",
      "61486/61486 [==============================] - 0s - loss: 0.5415 - acc: 0.7291     \n",
      "Epoch 4/5\n",
      "61486/61486 [==============================] - 0s - loss: 0.5319 - acc: 0.7376     \n",
      "Epoch 5/5\n",
      "61486/61486 [==============================] - 0s - loss: 0.5265 - acc: 0.7405     \n",
      "(61486, 23)\n",
      "(61486,)\n",
      "Epoch 1/5\n",
      "61486/61486 [==============================] - 0s - loss: 0.4776 - acc: 0.7804     \n",
      "Epoch 2/5\n",
      "61486/61486 [==============================] - 0s - loss: 0.4584 - acc: 0.7899     \n",
      "Epoch 3/5\n",
      "61486/61486 [==============================] - 0s - loss: 0.4514 - acc: 0.7934     \n",
      "Epoch 4/5\n",
      "61486/61486 [==============================] - 0s - loss: 0.4468 - acc: 0.7960     \n",
      "Epoch 5/5\n",
      "61486/61486 [==============================] - 0s - loss: 0.4454 - acc: 0.7971     \n"
     ]
    }
   ],
   "source": [
    "# create model\n",
    "model = Sequential()\n",
    "model.add(Dense(10, input_dim=23, init='uniform', activation='sigmoid'))\n",
    "model.add(Dense(10, init='uniform', activation='sigmoid'))\n",
    "model.add(Dense(1, init='uniform', activation='sigmoid')) #last layer needs to be sigmoid activation (why?)\n",
    "\n",
    "# Compile model\n",
    "model.compile(loss='binary_crossentropy', optimizer='adam', metrics=['accuracy'])\n",
    "\n",
    "# Fit the model in batches, taking different negative data each time\n",
    "for i in range(0, NUM_CYCLES):\n",
    "    szr.astype(np.float32)\n",
    "    \n",
    "    #stack the data\n",
    "    X_train = np.vstack((non_szr[i], szr))\n",
    "    print X_train.shape\n",
    "    #stack the labels\n",
    "    Y_train = np.hstack((np.zeros(len(non_szr[i])), np.ones(len(szr))))\n",
    "    print Y_train.shape\n",
    "    \n",
    "    model.fit(X_train, Y_train, nb_epoch=NUM_EPOCHS, batch_size=BATCH_SIZE)"
   ]
  },
  {
   "cell_type": "code",
   "execution_count": 80,
   "metadata": {
    "collapsed": false
   },
   "outputs": [
    {
     "name": "stdout",
     "output_type": "stream",
     "text": [
      "60960/61486 [============================>.] - ETA: 0sacc: 79.70%\n",
      "10112/12297 [=======================>......] - ETA: 0s"
     ]
    }
   ],
   "source": [
    "# evaluate the model\n",
    "scores = model.evaluate(X_train, Y_train)\n",
    "print(\"%s: %.2f%%\" % (model.metrics_names[1], scores[1]*100))\n",
    "\n",
    "#generate prediction probabilities for ROC curve\n",
    "proba = model.predict_proba(X_test, verbose=1)"
   ]
  },
  {
   "cell_type": "code",
   "execution_count": 81,
   "metadata": {
    "collapsed": true
   },
   "outputs": [],
   "source": [
    "def generate_results(predictions, actual):\n",
    "    #This just plots the ROC curve\n",
    "    false_positive_rate, true_positive_rate, thresholds = met.roc_curve(actual, predictions)\n",
    "    roc_auc = met.auc(false_positive_rate, true_positive_rate)\n",
    "    \n",
    "    \n",
    "    plt.title('Receiver Operating Characteristic')\n",
    "    plt.plot(false_positive_rate, true_positive_rate, 'b',\n",
    "    label='AUC = %0.2f'% roc_auc)\n",
    "    plt.legend(loc='lower right')\n",
    "    plt.plot([0,1],[0,1],'r--')\n",
    "    plt.xlim([0,1])\n",
    "    plt.ylim([0,1])\n",
    "    plt.ylabel('True Positive Rate')\n",
    "    plt.xlabel('False Positive Rate')\n",
    "    plt.show()"
   ]
  },
  {
   "cell_type": "code",
   "execution_count": 82,
   "metadata": {
    "collapsed": false
   },
   "outputs": [
    {
     "name": "stdout",
     "output_type": "stream",
     "text": [
      "0.796662855082\n"
     ]
    },
    {
     "data": {
      "image/png": "[encoded data removed]",
      "text/plain": [
       "<matplotlib.figure.Figure at 0x11de13890>"
      ]
     },
     "metadata": {},
     "output_type": "display_data"
    }
   ],
   "source": [
    "import sklearn.metrics as met\n",
    "\n",
    "print met.roc_auc_score(Y_test, proba)\n",
    "generate_results(proba, Y_test)"
   ]
  },
  {
   "cell_type": "code",
   "execution_count": null,
   "metadata": {
    "collapsed": true
   },
   "outputs": [],
   "source": []
  }
 ],
 "metadata": {
  "anaconda-cloud": {},
  "kernelspec": {
   "display_name": "Python [default]",
   "language": "python",
   "name": "python2"
  },
  "language_info": {
   "codemirror_mode": {
    "name": "ipython",
    "version": 2
   },
   "file_extension": ".py",
   "mimetype": "text/x-python",
   "name": "python",
   "nbconvert_exporter": "python",
   "pygments_lexer": "ipython2",
   "version": "2.7.12"
  }
 },
 "nbformat": 4,
 "nbformat_minor": 1
}
