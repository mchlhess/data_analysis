{
 "cells": [
  {
   "cell_type": "code",
   "execution_count": 2,
   "metadata": {
    "collapsed": true
   },
   "outputs": [],
   "source": [
    "def load_clinical_eeg_data(datapath, sub):\n",
    "    # input arguments:\n",
    "    # datapath (string): path to the root directory\n",
    "    # sub (string): subject ID (e.g. chb01, chb02, etc)\n",
    "    \n",
    "    # output:\n",
    "    # eegdata (numpy array): samples x channels data matrix\n",
    "    # eegevents (pandas dataframe): labels and chunks\n",
    "    # channel_names (list): names of the channels\n",
    "    import pandas as pd\n",
    "    alldata = pd.read_csv(os.path.join(datapath, 'train', sub + '.csv'))\n",
    "    alldata.rename(columns={'Unnamed: 0': 'Index'})\n",
    "    eegevents = alldata[['labels', 'chunks']]\n",
    "    alldata.drop(['Unnamed: 0', 'labels', 'chunks'], axis=1, inplace=True)\n",
    "    names = alldata.keys()\n",
    "    return alldata.iloc[:].as_matrix(), eegevents, names"
   ]
  },
  {
   "cell_type": "code",
   "execution_count": null,
   "metadata": {},
   "outputs": [],
   "source": [
    "import numpy as np\n",
    "import matplotlib.pyplot as plt\n",
    "import sklearn.cross_validation as cv\n",
    "from sklearn.neighbors import KNeighborsClassifier\n",
    "from sklearn.externals import joblib\n",
    "import sklearn.metrics as metrics"
   ]
  },
  {
   "cell_type": "code",
   "execution_count": 221,
   "metadata": {},
   "outputs": [],
   "source": [
    "import os\n",
    "\n",
    "data, label_chunk, nodes =load_clinical_eeg_data('/Users/Matisse/Desktop', 'chb01')"
   ]
  },
  {
   "cell_type": "code",
   "execution_count": 222,
   "metadata": {},
   "outputs": [],
   "source": [
    "from sklearn.decomposition import PCA\n",
    "import sklearn.preprocessing as prepro\n",
    "\n",
    "x_scaled = prepro.scale(data)\n",
    "\n",
    "pca = PCA(n_components = 7)\n",
    "x_pca = pca.fit_transform(x_scaled)"
   ]
  },
  {
   "cell_type": "code",
   "execution_count": 223,
   "metadata": {},
   "outputs": [],
   "source": [
    "#Jeff Code\n",
    "\n",
    "def apply_filters(x, order=4, fs=512.0, filt=None, btype='low', axis=0):\n",
    "    from scipy.signal import butter, filtfilt\n",
    "    nyq = .5 * fs\n",
    "    \n",
    "    if filt is None:\n",
    "        return x\n",
    "    if isinstance(filt, list):\n",
    "        f = [i/nyq for i in filt]\n",
    "        btype='band'\n",
    "    else:\n",
    "        f = filt/nyq\n",
    "        \n",
    "    b, a = butter(order, f, btype=btype, analog=False)\n",
    "    x = filtfilt(b, a, x, axis=axis)\n",
    "    return x\n",
    "\n",
    "def plot_filter(order=4, fs=512.0, filt=None, btype='low'):\n",
    "    from scipy.signal import decimate, butter, freqs\n",
    "    nyq = .5 * fs\n",
    "    if filt is None:\n",
    "        return None\n",
    "    if isinstance(filt, list) and len(filt) > 1:\n",
    "        f = [i/nyq for i in filt]\n",
    "        btype='band'\n",
    "    else:\n",
    "        f = filt/nyq\n",
    "    b, a = butter(order, f, btype=btype, analog=True)\n",
    "    w, h = freqs(b, a)\n",
    "    plt.plot(w, 20 * np.log10(abs(h)))\n",
    "    plt.xscale('log')\n",
    "    plt.title('Butterworth filter frequency response')\n",
    "    plt.xlabel('Frequency [radians / second]')\n",
    "    plt.ylabel('Amplitude [dB]')\n",
    "    plt.margins(0, 0.1)\n",
    "    plt.grid(which='both', axis='both')\n",
    "    plt.axvline(100, color='green') # cutoff frequency\n",
    "    plt.show()\n",
    "\n",
    "f, axarr = plt.subplots(4, 1, figsize=(8, 6))\n",
    "axarr[0].plot(data[:,0])\n",
    "axarr[0].set_title('raw')\n",
    "\n",
    "\n",
    "x_filt = apply_filters(data[:,0], order=4, fs=64, filt=5, btype='high')\n",
    "axarr[1].plot(x_filt)\n",
    "axarr[1].set_title('hp-filtered')\n",
    "\n",
    "\n",
    "x_filt = apply_filters(data[:,0], order=4, fs=64, filt=25, btype='low')\n",
    "axarr[2].plot(x_filt)\n",
    "axarr[2].set_title('lp-filtered')\n",
    "\n",
    "x_filt = apply_filters(data[:,0], order=4, fs=64, filt=[12, 30], btype='band')\n",
    "axarr[3].plot(x_filt)\n",
    "axarr[3].set_title('bp-filtered')\n",
    "plt.show()"
   ]
  },
  {
   "cell_type": "code",
   "execution_count": 224,
   "metadata": {},
   "outputs": [],
   "source": [
    "bp_data = apply_filters(data,order =4, fs=64, filt=[12, 30], btype='band')"
   ]
  },
  {
   "cell_type": "code",
   "execution_count": null,
   "metadata": {},
   "outputs": [],
   "source": [
    ""
   ]
  },
  {
   "cell_type": "code",
   "execution_count": 225,
   "metadata": {},
   "outputs": [],
   "source": [
    "# Our dataset is very one-sided, and wee need to sample evenly to avoid our models only predicting \"no seizure\"\n",
    "def re_label(data,labels):\n",
    "    non_szr = []\n",
    "    pre_szr = []\n",
    "    szr = []\n",
    "\n",
    "    marker = 0\n",
    "    f_label = labels\n",
    "    f_data = data\n",
    "    for i in range(0, len(f_label)):\n",
    "        if f_label[i] == 0:\n",
    "            marker = 0\n",
    "            if i < len(f_label) - 640 and f_label[i + 640] != 1:\n",
    "                non_szr.append(f_data[i])\n",
    "\n",
    "        elif f_label[i] == 1 and marker == 0:\n",
    "            marker = 1\n",
    "\n",
    "            for n in range(640, 1, -1):\n",
    "                pre_szr.append(f_data[i - n])\n",
    "\n",
    "        elif f_label[i] == 1 and marker == 1:\n",
    "            szr.append(f_data[i])\n",
    "\n",
    "    pre_szr = np.asarray(pre_szr)\n",
    "    szr = np.asarray(szr)\n",
    "    non_szr = np.asarray(non_szr)\n",
    "    \n",
    "    return non_szr, szr, pre_szr\n",
    "\n",
    "def sample_sizer(labelList, n, *args):\n",
    "    samples = []\n",
    "    for arg in args:\n",
    "        for i in range(n):\n",
    "            samples.append(arg[i,:])\n",
    "            \n",
    "    labelr = []\n",
    "    for labels in labelList:\n",
    "        for i in range(n):\n",
    "            labelr.append(labels)\n",
    "    return np.array(samples), np.array(labelr)"
   ]
  },
  {
   "cell_type": "code",
   "execution_count": 226,
   "metadata": {},
   "outputs": [],
   "source": [
    "#Build equally sized data sets\n",
    "def new_balanced_dataset(data, labels):\n",
    "    nonData, seizData, preData = re_label(data, labels)\n",
    "\n",
    "    #Shuffle each list\n",
    "    np.random.shuffle(nonData)\n",
    "    np.random.shuffle(seizData)\n",
    "    np.random.shuffle(preData)\n",
    "\n",
    "    #generate a new dataset\n",
    "    size = 64 * 30 # ~30 sec of each data type\n",
    "    new_data, new_labels = sample_sizer([0,1], size, nonData, preData)\n",
    "    \n",
    "    return new_data, new_labels\n",
    "\n",
    "labels = np.array(label_chunk)[:,0]\n",
    "new_data, new_labels = new_balanced_dataset(data, labels)"
   ]
  },
  {
   "cell_type": "code",
   "execution_count": null,
   "metadata": {},
   "outputs": [],
   "source": [
    "def predict_log_reg(data, label_chunk):\n",
    "    \n",
    "    labels = np.array(label_chunk)[:,0]\n",
    "    new_data, new_labels = new_balanced_dataset(data, labels)\n",
    "    \n",
    "    training_set, testing_set, training_labels, testing_labels = cv.train_test_split(new_data, new_labels)\n",
    "    \n",
    "    log_reg_model = LogisticRegression()\n",
    "    log_reg_model.fit(training_set, training_labels)\n",
    "    print \"Training accuracy: \" + str(log_reg_model.score(training_set, training_labels))\n",
    "    print \"Testing accuracy: \"+ str(log_reg_model.score(testing_set,testing_labels))\n",
    "    \n",
    "    \n",
    "def predict_k_neighbors(data, label_chunk):\n",
    "    \n",
    "    labels = np.array(label_chunk)[:,0]\n",
    "    new_data, new_labels = new_balanced_dataset(data, labels)\n",
    "    \n",
    "    training_set, testing_set, training_labels, testing_labels = cv.train_test_split(new_data, new_labels)\n",
    "    \n",
    "    Ks = np.linspace(1, 50, 50)\n",
    "    scores = []\n",
    "    for i in range(len(Ks)):\n",
    "        neighbors = KNeighborsClassifier(Ks[i])\n",
    "        neighbors.fit(training_set, training_labels)\n",
    "        meanscore = np.mean(cv.cross_val_score(neighbors, training_set, training_labels))\n",
    "        scores.append(meanscore)\n",
    "    scores = np.array(scores)\n",
    "    k = Ks[scores == scores.max()]\n",
    "    \n",
    "    neighbors = KNeighborsClassifier(k)\n",
    "    neighbors.fit(training_set, training_labels)\n",
    "    print \"Training accuracy: \" + str(neighbors.score(training_set, training_labels))\n",
    "    print \"Testing accuracy: \"+ str(neighbors.score(testing_set, testing_labels))"
   ]
  },
  {
   "cell_type": "code",
   "execution_count": null,
   "metadata": {},
   "outputs": [],
   "source": [
    "# predict_log_reg(bp_data, label_chunk)\n",
    "# predict_k_neighbors(bp_data, label_chunk)"
   ]
  },
  {
   "cell_type": "code",
   "execution_count": 228,
   "metadata": {},
   "outputs": [],
   "source": [
    "training_set, testing_set, training_labels, testing_labels = cv.train_test_split(new_data, new_labels)"
   ]
  },
  {
   "cell_type": "code",
   "execution_count": 229,
   "metadata": {},
   "outputs": [
    {
     "name": "stdout",
     "output_type": "stream",
     "text": [
      "Training accuracy:0.519791666667\nTesting accuracy0.469791666667\n"
     ]
    }
   ],
   "source": [
    "# logistic regression on balanced dataset\n",
    "\n",
    "from sklearn.linear_model import LogisticRegression\n",
    "\n",
    "log_reg_model = LogisticRegression()\n",
    "log_reg_model.fit(training_set, training_labels)\n",
    "print \"Training accuracy:\" + str(log_reg_model.score(training_set, training_labels))\n",
    "print\"Testing accuracy\"+ str(log_reg_model.score(testing_set,testing_labels))\n",
    "\n",
    "# model_name = 'log_reg_predict.pkl'\n",
    "# joblib.dump(log_reg_model, model_name)"
   ]
  },
  {
   "cell_type": "code",
   "execution_count": 230,
   "metadata": {},
   "outputs": [
    {
     "name": "stdout",
     "output_type": "stream",
     "text": [
      "AUC:  0.488430557247\nAccuracy:  0.469791666667\n"
     ]
    }
   ],
   "source": [
    "predict_logreg=log_reg_model.decision_function(testing_set)\n",
    "fpr1, tpr1, thresholds = metrics.roc_curve(testing_labels,predict_logreg)\n",
    "plt.plot(fpr1,tpr1)\n",
    "plt.title('ROC Curve')\n",
    "x=[0,1]\n",
    "y=[0,1]\n",
    "plt.plot(x,y)\n",
    "plt.show(block=True)"
   ]
  },
  {
   "cell_type": "code",
   "execution_count": 231,
   "metadata": {},
   "outputs": [
    {
     "name": "stdout",
     "output_type": "stream",
     "text": [
      "AUC:  0.488430557247\nAccuracy:  0.469791666667\n"
     ]
    }
   ],
   "source": [
    "print 'AUC: ', metrics.auc(fpr1,tpr1)\n",
    "print 'Accuracy: ', log_reg_model.score(testing_set,testing_labels)"
   ]
  },
  {
   "cell_type": "code",
   "execution_count": 236,
   "metadata": {},
   "outputs": [],
   "source": [
    "# k-nearest neighbors on balanced dataset\n",
    "\n",
    "from sklearn.neighbors import KNeighborsClassifier\n",
    "\n",
    "Ks = np.linspace(1, 50, 50)\n",
    "scores = []\n",
    "for i in range(len(Ks)):\n",
    "    neighbors = KNeighborsClassifier(Ks[i])\n",
    "    neighbors.fit(training_set, training_labels)\n",
    "    meanscore = np.mean(cv.cross_val_score(neighbors, training_set, training_labels))\n",
    "    scores.append(meanscore)\n",
    "scores = np.array(scores)\n",
    "k = Ks[scores == scores.max()]"
   ]
  },
  {
   "cell_type": "code",
   "execution_count": 238,
   "metadata": {},
   "outputs": [
    {
     "name": "stdout",
     "output_type": "stream",
     "text": [
      "Training accuracy: 0.71875\nTesting accuracy: 0.616666666667\n"
     ]
    }
   ],
   "source": [
    "neighbors = KNeighborsClassifier(k)\n",
    "neighbors.fit(training_set, training_labels)\n",
    "print \"Training accuracy: \" + str(neighbors.score(training_set, training_labels))\n",
    "print\"Testing accuracy: \"+ str(neighbors.score(testing_set, testing_labels))\n",
    "\n",
    "# model_name = 'knn_predict.pkl'\n",
    "# joblib.dump(neighbors, model_name)"
   ]
  },
  {
   "cell_type": "code",
   "execution_count": 239,
   "metadata": {},
   "outputs": [
    {
     "data": {
      "image/png": "[encoded data removed]",
      "text/plain": [
       "<matplotlib.figure.Figure at 0x11d1a8d10>"
      ]
     },
     "metadata": {},
     "output_type": "display_data"
    },
    {
     "name": "stdout",
     "output_type": "stream",
     "text": [
      "AUC:  0.654245463561\nAccuracy:  0.616666666667\n"
     ]
    }
   ],
   "source": [
    "predict_knn=neighbors.predict_proba(testing_set)\n",
    "fpr2, tpr2, thresholds = metrics.roc_curve(testing_labels,predict_knn[:, 1])\n",
    "plt.plot(fpr2, tpr2)\n",
    "plt.title('ROC Curve')\n",
    "x=[0,1]\n",
    "y=[0,1]\n",
    "plt.plot(x,y)\n",
    "plt.show(block=True)\n",
    "\n",
    "print 'AUC: ', metrics.auc(fpr2,tpr2)\n",
    "print 'Accuracy: ', neighbors.score(testing_set, testing_labels)"
   ]
  },
  {
   "cell_type": "code",
   "execution_count": 207,
   "metadata": {},
   "outputs": [],
   "source": [
    "# def run_skl_model(x, modelname):\n",
    "#     from sklearn.externals import joblib\n",
    "#     clf = joblib.load(modelname)  # load the saved sklearn model (so you don't have to retrain)\n",
    "#     return clf.predict(x)\n",
    "# \n",
    "# run_skl_model(testing_set, 'log_reg_predict.pkl')"
   ]
  },
  {
   "cell_type": "code",
   "execution_count": 209,
   "metadata": {},
   "outputs": [
    {
     "name": "stdout",
     "output_type": "stream",
     "text": [
      "Training accuracy:0.991404341126\nTesting accuracy0.990962350697\n"
     ]
    },
    {
     "data": {
      "image/png": "[encoded data removed]",
      "text/plain": [
       "<matplotlib.figure.Figure at 0x115baaa10>"
      ]
     },
     "metadata": {},
     "output_type": "display_data"
    },
    {
     "name": "stdout",
     "output_type": "stream",
     "text": [
      "AUC:  0.476093086883\nAccuracy:  0.990962350697\n"
     ]
    }
   ],
   "source": [
    "unbalanced_data = np.append(nonData, preData, axis=0)\n",
    "unbalanced_labels = np.append(np.repeat(0, nonData.shape[0]), np.repeat(1, preData.shape[0]))\n",
    "\n",
    "training_set, testing_set, training_labels, testing_labels = cv.train_test_split(unbalanced_data, unbalanced_labels)\n",
    "\n",
    "log_reg_model = LogisticRegression()\n",
    "log_reg_model.fit(training_set, training_labels)\n",
    "print \"Training accuracy:\" + str(log_reg_model.score(training_set, training_labels))\n",
    "print\"Testing accuracy\"+ str(log_reg_model.score(testing_set,testing_labels))\n",
    "\n",
    "predict_logreg=log_reg_model.decision_function(testing_set)\n",
    "fpr1, tpr1, thresholds = metrics.roc_curve(testing_labels,predict_logreg)\n",
    "plt.plot(fpr1,tpr1)\n",
    "plt.title('ROC Curve')\n",
    "x=[0,1]\n",
    "y=[0,1]\n",
    "plt.plot(x,y)\n",
    "plt.show(block=True)\n",
    "\n",
    "print 'AUC: ', metrics.auc(fpr1,tpr1)\n",
    "print 'Accuracy: ', log_reg_model.score(testing_set,testing_labels)"
   ]
  },
  {
   "cell_type": "code",
   "execution_count": null,
   "metadata": {},
   "outputs": [],
   "source": [
    ""
   ]
  }
 ],
 "metadata": {
  "kernelspec": {
   "display_name": "Python 2",
   "language": "python",
   "name": "python2"
  },
  "language_info": {
   "codemirror_mode": {
    "name": "ipython",
    "version": 2.0
   },
   "file_extension": ".py",
   "mimetype": "text/x-python",
   "name": "python",
   "nbconvert_exporter": "python",
   "pygments_lexer": "ipython2",
   "version": "2.7.6"
  }
 },
 "nbformat": 4,
 "nbformat_minor": 0
}